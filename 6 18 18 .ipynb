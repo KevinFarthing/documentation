{
 "cells": [
  {
   "cell_type": "code",
   "execution_count": 17,
   "metadata": {},
   "outputs": [
    {
     "ename": "AttributeError",
     "evalue": "'str' object has no attribute 'decode'",
     "output_type": "error",
     "traceback": [
      "\u001b[1;31m---------------------------------------------------------------------------\u001b[0m",
      "\u001b[1;31mAttributeError\u001b[0m                            Traceback (most recent call last)",
      "\u001b[1;32m<ipython-input-17-59adafa90f62>\u001b[0m in \u001b[0;36m<module>\u001b[1;34m()\u001b[0m\n\u001b[0;32m     42\u001b[0m \u001b[0mabc\u001b[0m \u001b[1;33m=\u001b[0m \u001b[1;34m\"abcdefghijklmnopqrstuvwxyz\"\u001b[0m\u001b[1;33m\u001b[0m\u001b[0m\n\u001b[0;32m     43\u001b[0m \u001b[0mkey\u001b[0m \u001b[1;33m=\u001b[0m \u001b[1;34m\"password\"\u001b[0m\u001b[1;33m\u001b[0m\u001b[0m\n\u001b[1;32m---> 44\u001b[1;33m \u001b[0mc\u001b[0m \u001b[1;33m=\u001b[0m \u001b[0mVigenereCipher\u001b[0m\u001b[1;33m(\u001b[0m\u001b[0mkey\u001b[0m\u001b[1;33m,\u001b[0m \u001b[0mabc\u001b[0m\u001b[1;33m)\u001b[0m\u001b[1;33m\u001b[0m\u001b[0m\n\u001b[0m",
      "\u001b[1;32m<ipython-input-17-59adafa90f62>\u001b[0m in \u001b[0;36m__init__\u001b[1;34m(self, key, alphabet)\u001b[0m\n\u001b[0;32m      1\u001b[0m \u001b[1;32mclass\u001b[0m \u001b[0mVigenereCipher\u001b[0m\u001b[1;33m(\u001b[0m\u001b[0mobject\u001b[0m\u001b[1;33m)\u001b[0m\u001b[1;33m:\u001b[0m\u001b[1;33m\u001b[0m\u001b[0m\n\u001b[0;32m      2\u001b[0m     \u001b[1;32mdef\u001b[0m \u001b[0m__init__\u001b[0m\u001b[1;33m(\u001b[0m\u001b[0mself\u001b[0m\u001b[1;33m,\u001b[0m \u001b[0mkey\u001b[0m\u001b[1;33m,\u001b[0m \u001b[0malphabet\u001b[0m\u001b[1;33m)\u001b[0m\u001b[1;33m:\u001b[0m\u001b[1;33m\u001b[0m\u001b[0m\n\u001b[1;32m----> 3\u001b[1;33m         \u001b[0mself\u001b[0m\u001b[1;33m.\u001b[0m\u001b[0mkey\u001b[0m \u001b[1;33m=\u001b[0m \u001b[0mkey\u001b[0m\u001b[1;33m.\u001b[0m\u001b[0mdecode\u001b[0m\u001b[1;33m(\u001b[0m\u001b[1;34m'utf-8'\u001b[0m\u001b[1;33m)\u001b[0m\u001b[1;33m\u001b[0m\u001b[0m\n\u001b[0m\u001b[0;32m      4\u001b[0m         \u001b[0mself\u001b[0m\u001b[1;33m.\u001b[0m\u001b[0malphabet\u001b[0m \u001b[1;33m=\u001b[0m \u001b[0malphabet\u001b[0m\u001b[1;33m.\u001b[0m\u001b[0mdecode\u001b[0m\u001b[1;33m(\u001b[0m\u001b[1;34m'utf-8'\u001b[0m\u001b[1;33m)\u001b[0m\u001b[1;33m\u001b[0m\u001b[0m\n\u001b[0;32m      5\u001b[0m \u001b[1;33m\u001b[0m\u001b[0m\n",
      "\u001b[1;31mAttributeError\u001b[0m: 'str' object has no attribute 'decode'"
     ]
    }
   ],
   "source": [
    "class VigenereCipher(object):\n",
    "    def __init__(self, key, alphabet):\n",
    "        self.key = key.decode('utf-8')\n",
    "        self.alphabet = alphabet.decode('utf-8')\n",
    "   \n",
    "    def encode(self, text):\n",
    "        text = text.decode('utf-8')\n",
    "        result = \"\".join(self.encode_char(i, text[i]) for i in range(len(text)))\n",
    "        return result.encode('utf-8')\n",
    "   \n",
    "    def encode_char(self, i, c):\n",
    "        \"\"\"Returns the encoded value of c given it appears at position i in the text\"\"\"\n",
    "        if c not in self.alphabet:\n",
    "            return c\n",
    "       \n",
    "        print('Encoding character:', c)\n",
    "        shift = self.shift_for_index(i)\n",
    "        return self.shift_character(c, shift)\n",
    "   \n",
    "    def decode(self, text):\n",
    "        text = text.decode('utf-8')\n",
    "        result = \"\".join(self.decode_char(i, text[i]) for i in range(len(text)))\n",
    "        return result.encode('utf-8')\n",
    "   \n",
    "    def decode_char(self, i, c):\n",
    "        \"\"\"Returns the decoded value of c given it appears at position i in the text\"\"\"\n",
    "        if c not in self.alphabet:\n",
    "            return c\n",
    "       \n",
    "        shift = 0 - self.shift_for_index(i)\n",
    "        return self.shift_character(c, shift)\n",
    "   \n",
    "    def shift_for_index(self, index):\n",
    "        key_character = self.key[index % len(self.key)]\n",
    "        return self.alphabet.index(key_character)\n",
    "   \n",
    "    def shift_character(self, char, amount):\n",
    "        old_index = self.alphabet.index(char)\n",
    "        new_index = (old_index + amount) % len(self.alphabet)\n",
    "        return self.alphabet[new_index]\n",
    "    \n",
    "abc = \"abcdefghijklmnopqrstuvwxyz\"\n",
    "key = \"password\"\n",
    "c = VigenereCipher(key, abc)"
   ]
  },
  {
   "cell_type": "code",
   "execution_count": 3,
   "metadata": {},
   "outputs": [
    {
     "ename": "AttributeError",
     "evalue": "'str' object has no attribute 'decode'",
     "output_type": "error",
     "traceback": [
      "\u001b[1;31m---------------------------------------------------------------------------\u001b[0m",
      "\u001b[1;31mAttributeError\u001b[0m                            Traceback (most recent call last)",
      "\u001b[1;32m<ipython-input-3-e177b535f612>\u001b[0m in \u001b[0;36m<module>\u001b[1;34m()\u001b[0m\n\u001b[0;32m      1\u001b[0m \u001b[0mtext\u001b[0m \u001b[1;33m=\u001b[0m \u001b[1;34m\"アイウエオァィゥェォカキクケコサシスセソタチツッテトナニヌネノハヒフヘホマミムメモヤャユュヨョラリルレロワヲンー\"\u001b[0m\u001b[1;33m\u001b[0m\u001b[0m\n\u001b[1;32m----> 2\u001b[1;33m \u001b[0mtext\u001b[0m \u001b[1;33m=\u001b[0m \u001b[0mtext\u001b[0m\u001b[1;33m.\u001b[0m\u001b[0mdecode\u001b[0m\u001b[1;33m(\u001b[0m\u001b[1;34m'utf-8'\u001b[0m\u001b[1;33m)\u001b[0m\u001b[1;33m\u001b[0m\u001b[0m\n\u001b[0m",
      "\u001b[1;31mAttributeError\u001b[0m: 'str' object has no attribute 'decode'"
     ]
    }
   ],
   "source": [
    "text = \"アイウエオァィゥェォカキクケコサシスセソタチツッテトナニヌネノハヒフヘホマミムメモヤャユュヨョラリルレロワヲンー\"\n",
    "text = text.decode('utf-8')"
   ]
  },
  {
   "cell_type": "code",
   "execution_count": 12,
   "metadata": {},
   "outputs": [],
   "source": [
    "class Fruit:\n",
    "    def __init__(self, name, **kwargs):\n",
    "        #**kwargs converts data you give it into dictionary\n",
    "        self.name = name\n",
    "        for k, v in kwargs.items():\n",
    "            setattr(self,k,v)"
   ]
  },
  {
   "cell_type": "code",
   "execution_count": 13,
   "metadata": {},
   "outputs": [],
   "source": [
    "class Berry(Fruit):\n",
    "    pass"
   ]
  },
  {
   "cell_type": "code",
   "execution_count": 16,
   "metadata": {},
   "outputs": [
    {
     "data": {
      "text/plain": [
       "'Rotten'"
      ]
     },
     "execution_count": 16,
     "metadata": {},
     "output_type": "execute_result"
    }
   ],
   "source": [
    "strawberry = Berry(\"Strawberry\", color=\"Red\", fresh=\"Rotten\")\n",
    "strawberry.fresh"
   ]
  },
  {
   "cell_type": "code",
   "execution_count": 65,
   "metadata": {},
   "outputs": [],
   "source": [
    "class Employee:\n",
    "    num_employees = 0\n",
    "    raise_amount = 1.04\n",
    "    \n",
    "    def __init__(self, first, last, pay):\n",
    "        self.first = first\n",
    "        self.last = last\n",
    "        self.pay = pay\n",
    "        self.email = f\"{first}.{last}@codingtemple.com\".lower()\n",
    "        \n",
    "        Employee.num_employees += 1\n",
    "    \n",
    "    def __str__(self):\n",
    "        return f\"{self.first} {self.last}\"\n",
    "    \n",
    "    def salary(self):\n",
    "        return \"{:,.2f}\".format(self.pay)\n",
    "    \n",
    "    def apply_raise(self):\n",
    "        self.pay = int(self.pay*self.raise_amount)\n",
    "    def fullName(self):\n",
    "        return f\"{self.first} {self.last}\"\n",
    "\n",
    "        "
   ]
  },
  {
   "cell_type": "code",
   "execution_count": 75,
   "metadata": {},
   "outputs": [
    {
     "name": "stdout",
     "output_type": "stream",
     "text": [
      "Ripal patel\n"
     ]
    }
   ],
   "source": [
    "emp1 = Employee(\"Ripal\", \"patel\", 200000)\n",
    "emp2 = Employee(\"Ryan\", \"Butz\", 150000)\n",
    "print(emp1)"
   ]
  },
  {
   "cell_type": "code",
   "execution_count": 67,
   "metadata": {},
   "outputs": [
    {
     "data": {
      "text/plain": [
       "'208,000.00'"
      ]
     },
     "execution_count": 67,
     "metadata": {},
     "output_type": "execute_result"
    }
   ],
   "source": [
    "emp1.apply_raise()\n",
    "emp1.salary()"
   ]
  },
  {
   "cell_type": "code",
   "execution_count": 68,
   "metadata": {},
   "outputs": [
    {
     "data": {
      "text/plain": [
       "2"
      ]
     },
     "execution_count": 68,
     "metadata": {},
     "output_type": "execute_result"
    }
   ],
   "source": [
    "Employee.num_employees"
   ]
  },
  {
   "cell_type": "code",
   "execution_count": 69,
   "metadata": {},
   "outputs": [
    {
     "name": "stdout",
     "output_type": "stream",
     "text": [
      "first: Ripal\n",
      "last: patel\n",
      "pay: 208000\n",
      "email: ripal.patel@codingtemple.com\n"
     ]
    }
   ],
   "source": [
    "for k, v in emp1.__dict__.items():\n",
    "    print(f\"{k}: {v}\")"
   ]
  },
  {
   "cell_type": "code",
   "execution_count": 70,
   "metadata": {},
   "outputs": [],
   "source": [
    "class Developer(Employee):\n",
    "    raise_amount = 1.10\n",
    "    def __init__(self, first, last, pay, language):\n",
    "        super().__init__(first, last, pay)\n",
    "        #alt Employee.__init__(self, first, last, pay)\n",
    "        self.language = language"
   ]
  },
  {
   "cell_type": "code",
   "execution_count": 71,
   "metadata": {},
   "outputs": [
    {
     "data": {
      "text/plain": [
       "4"
      ]
     },
     "execution_count": 71,
     "metadata": {},
     "output_type": "execute_result"
    }
   ],
   "source": [
    "dev1 = Developer(\"Derek\", \"Hawkins\", 102000, \"Python\")\n",
    "dev2 = Developer(\"Joe\", \"Johnson\", 110000, \"C#\")\n",
    "Employee.num_employees"
   ]
  },
  {
   "cell_type": "code",
   "execution_count": 87,
   "metadata": {},
   "outputs": [
    {
     "name": "stdout",
     "output_type": "stream",
     "text": [
      "--> Ripal patel\n",
      "--> Ryan Butz\n",
      "Ripal patel\n"
     ]
    }
   ],
   "source": [
    "class Manager(Employee):\n",
    "    def __init__(self, first, last, pay, minions=[]):\n",
    "        super().__init__(first,last,pay)\n",
    "        if minions is None:\n",
    "            self.minions = []\n",
    "        else: self.minions = minions\n",
    "            \n",
    "    def add_minions(self, minion):\n",
    "        if minion not in self.minions:\n",
    "            self.minions.append(minion)\n",
    "    \n",
    "    def remove_minions(self,minion):\n",
    "        if minion in self.minions:\n",
    "            self.employees.remove(employee)\n",
    "            \n",
    "    def print_minions(self):\n",
    "        for i in self.minions:\n",
    "            print('-->', i.fullName())\n",
    "\n",
    "man1 = Manager('Sylvester','Stallone',1000000, [emp1, emp2])\n",
    "\n",
    "man1.print_minions()"
   ]
  },
  {
   "cell_type": "code",
   "execution_count": 20,
   "metadata": {},
   "outputs": [
    {
     "name": "stdout",
     "output_type": "stream",
     "text": [
      "CPU: 1\n",
      "Motherboard: 1\n",
      "RAM: 3\n",
      "\n",
      "CPU: 1\n",
      "Motherboard: 1\n"
     ]
    }
   ],
   "source": [
    "#inventory, include category, item quantity, add, remove, return a sorted list\n",
    "import operator\n",
    "class Inventory:\n",
    "    inv = []\n",
    "    def __init__(self,name, cost, quantity=1):\n",
    "        if name not in [n.name for n in Inventory.inv]:\n",
    "            self.name = name\n",
    "            self.cost = cost\n",
    "            self.quantity = quantity\n",
    "            Inventory.inv.append(self)\n",
    "        else:\n",
    "            Inventory.add_item(name, quantity)\n",
    "    \n",
    "    def __str__(self):\n",
    "        return f\"{each.name}: {each.quantity}\"\n",
    "    \n",
    "    def add_item(n, q):\n",
    "        for each in Inventory.inv:\n",
    "            if n == each.name:\n",
    "                each.quantity += q\n",
    "    \n",
    "    def remove_item(n, q=1):\n",
    "        for each in Inventory.inv:\n",
    "            if n == each.name:\n",
    "#                 each.quantity -= q\n",
    "                Inventory.inv.remove(each)\n",
    "    \n",
    "    def inv_sort():\n",
    "#         return sorted(inv, key=self.name)\n",
    "#         ain't gonna work\n",
    "        return sorted(Inventory.inv, key=lambda Inventory: Inventory.name)\n",
    "    \n",
    "    def list_inv():\n",
    "        for each in Inventory.inv_sort():\n",
    "            print(f\"{each.name}: {each.quantity}\")\n",
    "\n",
    "\n",
    "Inventory('RAM',85)\n",
    "Inventory('CPU',200)\n",
    "Inventory('Motherboard',150)\n",
    "Inventory('RAM',85)\n",
    "Inventory('RAM',85)\n",
    "\n",
    "Inventory.list_inv()\n",
    "print()\n",
    "Inventory.remove_item(\"RAM\")\n",
    "Inventory.list_inv()"
   ]
  },
  {
   "cell_type": "code",
   "execution_count": null,
   "metadata": {},
   "outputs": [],
   "source": []
  }
 ],
 "metadata": {
  "kernelspec": {
   "display_name": "Python 3",
   "language": "python",
   "name": "python3"
  },
  "language_info": {
   "codemirror_mode": {
    "name": "ipython",
    "version": 3
   },
   "file_extension": ".py",
   "mimetype": "text/x-python",
   "name": "python",
   "nbconvert_exporter": "python",
   "pygments_lexer": "ipython3",
   "version": "3.6.4"
  }
 },
 "nbformat": 4,
 "nbformat_minor": 2
}
